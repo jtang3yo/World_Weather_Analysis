{
 "cells": [
  {
   "cell_type": "code",
   "execution_count": 18,
   "id": "dddda008",
   "metadata": {},
   "outputs": [],
   "source": [
    "import pandas as pd \n",
    "import gmaps \n",
    "import requests \n",
    "from config import g_key"
   ]
  },
  {
   "cell_type": "code",
   "execution_count": 19,
   "id": "8d9211b7",
   "metadata": {},
   "outputs": [
    {
     "data": {
      "text/html": [
       "<div>\n",
       "<style scoped>\n",
       "    .dataframe tbody tr th:only-of-type {\n",
       "        vertical-align: middle;\n",
       "    }\n",
       "\n",
       "    .dataframe tbody tr th {\n",
       "        vertical-align: top;\n",
       "    }\n",
       "\n",
       "    .dataframe thead th {\n",
       "        text-align: right;\n",
       "    }\n",
       "</style>\n",
       "<table border=\"1\" class=\"dataframe\">\n",
       "  <thead>\n",
       "    <tr style=\"text-align: right;\">\n",
       "      <th></th>\n",
       "      <th>City_ID</th>\n",
       "      <th>City</th>\n",
       "      <th>Country</th>\n",
       "      <th>Date</th>\n",
       "      <th>Lat</th>\n",
       "      <th>Lng</th>\n",
       "      <th>Max Temp</th>\n",
       "      <th>Humidity</th>\n",
       "      <th>Cloudiness</th>\n",
       "      <th>Wind Speed</th>\n",
       "    </tr>\n",
       "  </thead>\n",
       "  <tbody>\n",
       "    <tr>\n",
       "      <th>0</th>\n",
       "      <td>0</td>\n",
       "      <td>Rikitea</td>\n",
       "      <td>PF</td>\n",
       "      <td>2021-05-16 20:29:55</td>\n",
       "      <td>-23.1203</td>\n",
       "      <td>-134.9692</td>\n",
       "      <td>75.04</td>\n",
       "      <td>61</td>\n",
       "      <td>100</td>\n",
       "      <td>10.92</td>\n",
       "    </tr>\n",
       "    <tr>\n",
       "      <th>1</th>\n",
       "      <td>1</td>\n",
       "      <td>Souris</td>\n",
       "      <td>CA</td>\n",
       "      <td>2021-05-16 20:32:29</td>\n",
       "      <td>49.6172</td>\n",
       "      <td>-100.2612</td>\n",
       "      <td>82.40</td>\n",
       "      <td>16</td>\n",
       "      <td>75</td>\n",
       "      <td>21.85</td>\n",
       "    </tr>\n",
       "    <tr>\n",
       "      <th>2</th>\n",
       "      <td>2</td>\n",
       "      <td>Nizip</td>\n",
       "      <td>TR</td>\n",
       "      <td>2021-05-16 20:32:29</td>\n",
       "      <td>37.0097</td>\n",
       "      <td>37.7942</td>\n",
       "      <td>66.20</td>\n",
       "      <td>34</td>\n",
       "      <td>0</td>\n",
       "      <td>3.44</td>\n",
       "    </tr>\n",
       "    <tr>\n",
       "      <th>3</th>\n",
       "      <td>3</td>\n",
       "      <td>Portland</td>\n",
       "      <td>US</td>\n",
       "      <td>2021-05-16 20:30:14</td>\n",
       "      <td>45.5234</td>\n",
       "      <td>-122.6762</td>\n",
       "      <td>80.01</td>\n",
       "      <td>43</td>\n",
       "      <td>1</td>\n",
       "      <td>8.05</td>\n",
       "    </tr>\n",
       "    <tr>\n",
       "      <th>4</th>\n",
       "      <td>4</td>\n",
       "      <td>Punta Arenas</td>\n",
       "      <td>CL</td>\n",
       "      <td>2021-05-16 20:29:54</td>\n",
       "      <td>-53.1500</td>\n",
       "      <td>-70.9167</td>\n",
       "      <td>44.60</td>\n",
       "      <td>100</td>\n",
       "      <td>90</td>\n",
       "      <td>14.97</td>\n",
       "    </tr>\n",
       "    <tr>\n",
       "      <th>...</th>\n",
       "      <td>...</td>\n",
       "      <td>...</td>\n",
       "      <td>...</td>\n",
       "      <td>...</td>\n",
       "      <td>...</td>\n",
       "      <td>...</td>\n",
       "      <td>...</td>\n",
       "      <td>...</td>\n",
       "      <td>...</td>\n",
       "      <td>...</td>\n",
       "    </tr>\n",
       "    <tr>\n",
       "      <th>559</th>\n",
       "      <td>559</td>\n",
       "      <td>Manadhoo</td>\n",
       "      <td>MV</td>\n",
       "      <td>2021-05-16 20:34:17</td>\n",
       "      <td>5.7667</td>\n",
       "      <td>73.3833</td>\n",
       "      <td>84.38</td>\n",
       "      <td>77</td>\n",
       "      <td>87</td>\n",
       "      <td>19.04</td>\n",
       "    </tr>\n",
       "    <tr>\n",
       "      <th>560</th>\n",
       "      <td>560</td>\n",
       "      <td>Yeppoon</td>\n",
       "      <td>AU</td>\n",
       "      <td>2021-05-16 20:34:17</td>\n",
       "      <td>-23.1333</td>\n",
       "      <td>150.7333</td>\n",
       "      <td>48.20</td>\n",
       "      <td>66</td>\n",
       "      <td>1</td>\n",
       "      <td>2.30</td>\n",
       "    </tr>\n",
       "    <tr>\n",
       "      <th>561</th>\n",
       "      <td>561</td>\n",
       "      <td>Nelson Bay</td>\n",
       "      <td>AU</td>\n",
       "      <td>2021-05-16 20:34:17</td>\n",
       "      <td>-32.7167</td>\n",
       "      <td>152.1500</td>\n",
       "      <td>48.99</td>\n",
       "      <td>66</td>\n",
       "      <td>0</td>\n",
       "      <td>20.71</td>\n",
       "    </tr>\n",
       "    <tr>\n",
       "      <th>562</th>\n",
       "      <td>562</td>\n",
       "      <td>Kuching</td>\n",
       "      <td>MY</td>\n",
       "      <td>2021-05-16 20:34:18</td>\n",
       "      <td>1.5500</td>\n",
       "      <td>110.3333</td>\n",
       "      <td>75.20</td>\n",
       "      <td>94</td>\n",
       "      <td>20</td>\n",
       "      <td>2.30</td>\n",
       "    </tr>\n",
       "    <tr>\n",
       "      <th>563</th>\n",
       "      <td>563</td>\n",
       "      <td>Bowen</td>\n",
       "      <td>AU</td>\n",
       "      <td>2021-05-16 20:30:05</td>\n",
       "      <td>-20.0167</td>\n",
       "      <td>148.2333</td>\n",
       "      <td>51.80</td>\n",
       "      <td>87</td>\n",
       "      <td>0</td>\n",
       "      <td>5.75</td>\n",
       "    </tr>\n",
       "  </tbody>\n",
       "</table>\n",
       "<p>564 rows × 10 columns</p>\n",
       "</div>"
      ],
      "text/plain": [
       "     City_ID          City Country                 Date      Lat       Lng  \\\n",
       "0          0       Rikitea      PF  2021-05-16 20:29:55 -23.1203 -134.9692   \n",
       "1          1        Souris      CA  2021-05-16 20:32:29  49.6172 -100.2612   \n",
       "2          2         Nizip      TR  2021-05-16 20:32:29  37.0097   37.7942   \n",
       "3          3      Portland      US  2021-05-16 20:30:14  45.5234 -122.6762   \n",
       "4          4  Punta Arenas      CL  2021-05-16 20:29:54 -53.1500  -70.9167   \n",
       "..       ...           ...     ...                  ...      ...       ...   \n",
       "559      559      Manadhoo      MV  2021-05-16 20:34:17   5.7667   73.3833   \n",
       "560      560       Yeppoon      AU  2021-05-16 20:34:17 -23.1333  150.7333   \n",
       "561      561    Nelson Bay      AU  2021-05-16 20:34:17 -32.7167  152.1500   \n",
       "562      562       Kuching      MY  2021-05-16 20:34:18   1.5500  110.3333   \n",
       "563      563         Bowen      AU  2021-05-16 20:30:05 -20.0167  148.2333   \n",
       "\n",
       "     Max Temp  Humidity  Cloudiness  Wind Speed  \n",
       "0       75.04        61         100       10.92  \n",
       "1       82.40        16          75       21.85  \n",
       "2       66.20        34           0        3.44  \n",
       "3       80.01        43           1        8.05  \n",
       "4       44.60       100          90       14.97  \n",
       "..        ...       ...         ...         ...  \n",
       "559     84.38        77          87       19.04  \n",
       "560     48.20        66           1        2.30  \n",
       "561     48.99        66           0       20.71  \n",
       "562     75.20        94          20        2.30  \n",
       "563     51.80        87           0        5.75  \n",
       "\n",
       "[564 rows x 10 columns]"
      ]
     },
     "execution_count": 19,
     "metadata": {},
     "output_type": "execute_result"
    }
   ],
   "source": [
    "city_data_df = pd.read_csv('weather_data/cities.csv')\n",
    "city_data_df"
   ]
  },
  {
   "cell_type": "code",
   "execution_count": 20,
   "id": "e3376ec9",
   "metadata": {},
   "outputs": [
    {
     "data": {
      "text/plain": [
       "City_ID         int64\n",
       "City           object\n",
       "Country        object\n",
       "Date           object\n",
       "Lat           float64\n",
       "Lng           float64\n",
       "Max Temp      float64\n",
       "Humidity        int64\n",
       "Cloudiness      int64\n",
       "Wind Speed    float64\n",
       "dtype: object"
      ]
     },
     "execution_count": 20,
     "metadata": {},
     "output_type": "execute_result"
    }
   ],
   "source": [
    "city_data_df.dtypes "
   ]
  },
  {
   "cell_type": "code",
   "execution_count": 21,
   "id": "de5291d3",
   "metadata": {},
   "outputs": [],
   "source": [
    "#configure gmaps to use the google maps API Key. \n",
    "gmaps.configure(api_key = g_key)"
   ]
  },
  {
   "cell_type": "code",
   "execution_count": 22,
   "id": "9c7da67a",
   "metadata": {},
   "outputs": [
    {
     "data": {
      "application/vnd.jupyter.widget-view+json": {
       "model_id": "1816fc911e9241a6aeba5b082a2be225",
       "version_major": 2,
       "version_minor": 0
      },
      "text/plain": [
       "Figure(layout=FigureLayout(height='420px'))"
      ]
     },
     "metadata": {},
     "output_type": "display_data"
    }
   ],
   "source": [
    "#assign locations to an array of lats and lons pairs \n",
    "locations = city_data_df[['Lat', 'Lng']]\n",
    "#assign the weights variables to some values \n",
    "max_temp = city_data_df['Max Temp']\n",
    "temps=[]\n",
    "for temp in max_temp: \n",
    "    temps.append(max(temp,0))\n",
    "#assign figure variables to the gmaps.figure() attribute \n",
    "#fig = gmaps.figure()\n",
    "#add a center and zoom level to the gmaps.figure()attribute \n",
    "fig = gmaps.figure(center=(30.0,31.0),zoom_level=1.5)\n",
    "#assign the heatmap_layer variable to the heatmap_layer attribute \n",
    "#heatmap_layer = gmaps.heatmap_layer(locations, weights = temps)\n",
    "heatmap_layer = gmaps.heatmap_layer(locations, weights = [max(temp,0) for temp in max_temp],\\\n",
    "                                   dissipating = False, max_intensity = 300, point_radius = 4)\n",
    "#add the heatmap layer \n",
    "fig.add_layer(heatmap_layer)\n",
    "#call the figure to plot the data \n",
    "fig"
   ]
  },
  {
   "cell_type": "code",
   "execution_count": 23,
   "id": "713f988b",
   "metadata": {},
   "outputs": [
    {
     "data": {
      "application/vnd.jupyter.widget-view+json": {
       "model_id": "ee196247a73c4a61a313fc61e83da058",
       "version_major": 2,
       "version_minor": 0
      },
      "text/plain": [
       "Figure(layout=FigureLayout(height='420px'))"
      ]
     },
     "metadata": {},
     "output_type": "display_data"
    }
   ],
   "source": [
    "#use hudimity to be the measurement \n",
    "locations = city_data_df[['Lat', 'Lng']]\n",
    "\n",
    "humidity = city_data_df['Humidity']\n",
    "fig = gmaps.figure(center=(30.0, 31.0), zoom_level=1.5)\n",
    "heat_layer=gmaps.heatmap_layer(locations, weights=humidity, dissipating=False,\\\n",
    "                              max_intensity=300, point_radius=4)\n",
    "fig.add_layer(heat_layer)\n",
    "fig"
   ]
  },
  {
   "cell_type": "code",
   "execution_count": 24,
   "id": "e6730e5c",
   "metadata": {},
   "outputs": [
    {
     "data": {
      "application/vnd.jupyter.widget-view+json": {
       "model_id": "31befb3440dc4b8c908a33c1a572ddfe",
       "version_major": 2,
       "version_minor": 0
      },
      "text/plain": [
       "Figure(layout=FigureLayout(height='420px'))"
      ]
     },
     "metadata": {},
     "output_type": "display_data"
    }
   ],
   "source": [
    "#get the cloudiness heatmap \n",
    "locations = city_data_df[['Lat','Lng']]\n",
    "clouds = city_data_df['Cloudiness']\n",
    "fig = gmaps.figure(center=(30.0,31.0), zoom_level=1.5)\n",
    "heat_layer = gmaps.heatmap_layer(locations, weights=clouds, dissipating = False, \n",
    "                                max_intensity = 300, point_radius=4)\n",
    "fig.add_layer(heat_layer)\n",
    "fig"
   ]
  },
  {
   "cell_type": "code",
   "execution_count": 25,
   "id": "4970f910",
   "metadata": {},
   "outputs": [
    {
     "data": {
      "application/vnd.jupyter.widget-view+json": {
       "model_id": "91e71cb9f58b41c880e7a6a67f41f297",
       "version_major": 2,
       "version_minor": 0
      },
      "text/plain": [
       "Figure(layout=FigureLayout(height='420px'))"
      ]
     },
     "metadata": {},
     "output_type": "display_data"
    }
   ],
   "source": [
    "#get the wind speed heatmap \n",
    "locations = city_data_df[['Lat','Lng']]\n",
    "wind = city_data_df['Wind Speed']\n",
    "fig = gmaps.figure(center=(30.0,31.0), zoom_level=1.5)\n",
    "heat_layer = gmaps.heatmap_layer(locations, weights=wind, dissipating = False, \n",
    "                                max_intensity = 300, point_radius=4)\n",
    "fig.add_layer(heat_layer)\n",
    "fig"
   ]
  },
  {
   "cell_type": "code",
   "execution_count": 27,
   "id": "a54adfc7",
   "metadata": {},
   "outputs": [
    {
     "name": "stdout",
     "output_type": "stream",
     "text": [
      "What is the minimum temperature you would like for your trip?70\n",
      "What is the maximum temperature you would like for you trip?90\n"
     ]
    }
   ],
   "source": [
    "#use float(input()) to write statements for users \n",
    "min_temp = float(input(\"What is the minimum temperature you would like for your trip?\"))\n",
    "max_temp = float(input(\"What is the maximum temperature you would like for you trip?\"))\n"
   ]
  },
  {
   "cell_type": "code",
   "execution_count": 28,
   "id": "b55a346a",
   "metadata": {},
   "outputs": [
    {
     "data": {
      "text/html": [
       "<div>\n",
       "<style scoped>\n",
       "    .dataframe tbody tr th:only-of-type {\n",
       "        vertical-align: middle;\n",
       "    }\n",
       "\n",
       "    .dataframe tbody tr th {\n",
       "        vertical-align: top;\n",
       "    }\n",
       "\n",
       "    .dataframe thead th {\n",
       "        text-align: right;\n",
       "    }\n",
       "</style>\n",
       "<table border=\"1\" class=\"dataframe\">\n",
       "  <thead>\n",
       "    <tr style=\"text-align: right;\">\n",
       "      <th></th>\n",
       "      <th>City_ID</th>\n",
       "      <th>City</th>\n",
       "      <th>Country</th>\n",
       "      <th>Date</th>\n",
       "      <th>Lat</th>\n",
       "      <th>Lng</th>\n",
       "      <th>Max Temp</th>\n",
       "      <th>Humidity</th>\n",
       "      <th>Cloudiness</th>\n",
       "      <th>Wind Speed</th>\n",
       "    </tr>\n",
       "  </thead>\n",
       "  <tbody>\n",
       "    <tr>\n",
       "      <th>0</th>\n",
       "      <td>0</td>\n",
       "      <td>Rikitea</td>\n",
       "      <td>PF</td>\n",
       "      <td>2021-05-16 20:29:55</td>\n",
       "      <td>-23.1203</td>\n",
       "      <td>-134.9692</td>\n",
       "      <td>75.04</td>\n",
       "      <td>61</td>\n",
       "      <td>100</td>\n",
       "      <td>10.92</td>\n",
       "    </tr>\n",
       "    <tr>\n",
       "      <th>1</th>\n",
       "      <td>1</td>\n",
       "      <td>Souris</td>\n",
       "      <td>CA</td>\n",
       "      <td>2021-05-16 20:32:29</td>\n",
       "      <td>49.6172</td>\n",
       "      <td>-100.2612</td>\n",
       "      <td>82.40</td>\n",
       "      <td>16</td>\n",
       "      <td>75</td>\n",
       "      <td>21.85</td>\n",
       "    </tr>\n",
       "    <tr>\n",
       "      <th>3</th>\n",
       "      <td>3</td>\n",
       "      <td>Portland</td>\n",
       "      <td>US</td>\n",
       "      <td>2021-05-16 20:30:14</td>\n",
       "      <td>45.5234</td>\n",
       "      <td>-122.6762</td>\n",
       "      <td>80.01</td>\n",
       "      <td>43</td>\n",
       "      <td>1</td>\n",
       "      <td>8.05</td>\n",
       "    </tr>\n",
       "    <tr>\n",
       "      <th>5</th>\n",
       "      <td>5</td>\n",
       "      <td>Aquidauana</td>\n",
       "      <td>BR</td>\n",
       "      <td>2021-05-16 20:32:30</td>\n",
       "      <td>-20.4711</td>\n",
       "      <td>-55.7872</td>\n",
       "      <td>86.04</td>\n",
       "      <td>29</td>\n",
       "      <td>64</td>\n",
       "      <td>2.86</td>\n",
       "    </tr>\n",
       "    <tr>\n",
       "      <th>6</th>\n",
       "      <td>6</td>\n",
       "      <td>Bathsheba</td>\n",
       "      <td>BB</td>\n",
       "      <td>2021-05-16 20:31:47</td>\n",
       "      <td>13.2167</td>\n",
       "      <td>-59.5167</td>\n",
       "      <td>84.20</td>\n",
       "      <td>61</td>\n",
       "      <td>40</td>\n",
       "      <td>19.57</td>\n",
       "    </tr>\n",
       "    <tr>\n",
       "      <th>8</th>\n",
       "      <td>8</td>\n",
       "      <td>Hilo</td>\n",
       "      <td>US</td>\n",
       "      <td>2021-05-16 20:30:08</td>\n",
       "      <td>19.7297</td>\n",
       "      <td>-155.0900</td>\n",
       "      <td>84.20</td>\n",
       "      <td>51</td>\n",
       "      <td>90</td>\n",
       "      <td>9.22</td>\n",
       "    </tr>\n",
       "    <tr>\n",
       "      <th>9</th>\n",
       "      <td>9</td>\n",
       "      <td>Albany</td>\n",
       "      <td>US</td>\n",
       "      <td>2021-05-16 20:29:19</td>\n",
       "      <td>42.6001</td>\n",
       "      <td>-73.9662</td>\n",
       "      <td>75.00</td>\n",
       "      <td>27</td>\n",
       "      <td>75</td>\n",
       "      <td>9.22</td>\n",
       "    </tr>\n",
       "    <tr>\n",
       "      <th>11</th>\n",
       "      <td>11</td>\n",
       "      <td>Grenada</td>\n",
       "      <td>ES</td>\n",
       "      <td>2021-05-16 20:31:53</td>\n",
       "      <td>37.1882</td>\n",
       "      <td>-3.6067</td>\n",
       "      <td>75.20</td>\n",
       "      <td>29</td>\n",
       "      <td>0</td>\n",
       "      <td>2.30</td>\n",
       "    </tr>\n",
       "    <tr>\n",
       "      <th>12</th>\n",
       "      <td>12</td>\n",
       "      <td>Grants</td>\n",
       "      <td>US</td>\n",
       "      <td>2021-05-16 20:32:31</td>\n",
       "      <td>35.1473</td>\n",
       "      <td>-107.8514</td>\n",
       "      <td>78.80</td>\n",
       "      <td>8</td>\n",
       "      <td>1</td>\n",
       "      <td>11.50</td>\n",
       "    </tr>\n",
       "    <tr>\n",
       "      <th>13</th>\n",
       "      <td>13</td>\n",
       "      <td>Katsuura</td>\n",
       "      <td>JP</td>\n",
       "      <td>2021-05-16 20:30:27</td>\n",
       "      <td>35.1333</td>\n",
       "      <td>140.3000</td>\n",
       "      <td>73.00</td>\n",
       "      <td>100</td>\n",
       "      <td>75</td>\n",
       "      <td>18.41</td>\n",
       "    </tr>\n",
       "  </tbody>\n",
       "</table>\n",
       "</div>"
      ],
      "text/plain": [
       "    City_ID        City Country                 Date      Lat       Lng  \\\n",
       "0         0     Rikitea      PF  2021-05-16 20:29:55 -23.1203 -134.9692   \n",
       "1         1      Souris      CA  2021-05-16 20:32:29  49.6172 -100.2612   \n",
       "3         3    Portland      US  2021-05-16 20:30:14  45.5234 -122.6762   \n",
       "5         5  Aquidauana      BR  2021-05-16 20:32:30 -20.4711  -55.7872   \n",
       "6         6   Bathsheba      BB  2021-05-16 20:31:47  13.2167  -59.5167   \n",
       "8         8        Hilo      US  2021-05-16 20:30:08  19.7297 -155.0900   \n",
       "9         9      Albany      US  2021-05-16 20:29:19  42.6001  -73.9662   \n",
       "11       11     Grenada      ES  2021-05-16 20:31:53  37.1882   -3.6067   \n",
       "12       12      Grants      US  2021-05-16 20:32:31  35.1473 -107.8514   \n",
       "13       13    Katsuura      JP  2021-05-16 20:30:27  35.1333  140.3000   \n",
       "\n",
       "    Max Temp  Humidity  Cloudiness  Wind Speed  \n",
       "0      75.04        61         100       10.92  \n",
       "1      82.40        16          75       21.85  \n",
       "3      80.01        43           1        8.05  \n",
       "5      86.04        29          64        2.86  \n",
       "6      84.20        61          40       19.57  \n",
       "8      84.20        51          90        9.22  \n",
       "9      75.00        27          75        9.22  \n",
       "11     75.20        29           0        2.30  \n",
       "12     78.80         8           1       11.50  \n",
       "13     73.00       100          75       18.41  "
      ]
     },
     "execution_count": 28,
     "metadata": {},
     "output_type": "execute_result"
    }
   ],
   "source": [
    "#filter the dataset to find the cities that fit the criteria \n",
    "preferred_cities_df = city_data_df.loc[(city_data_df['Max Temp']<= max_temp) & \\\n",
    "                                       (city_data_df['Max Temp']>=min_temp)]\n",
    "preferred_cities_df.head(10)"
   ]
  },
  {
   "cell_type": "code",
   "execution_count": 29,
   "id": "f34b1ebf",
   "metadata": {},
   "outputs": [
    {
     "data": {
      "text/plain": [
       "City_ID       239\n",
       "City          239\n",
       "Country       239\n",
       "Date          239\n",
       "Lat           239\n",
       "Lng           239\n",
       "Max Temp      239\n",
       "Humidity      239\n",
       "Cloudiness    239\n",
       "Wind Speed    239\n",
       "dtype: int64"
      ]
     },
     "execution_count": 29,
     "metadata": {},
     "output_type": "execute_result"
    }
   ],
   "source": [
    "preferred_cities_df.count()"
   ]
  },
  {
   "cell_type": "code",
   "execution_count": 30,
   "id": "3a4547cd",
   "metadata": {},
   "outputs": [
    {
     "data": {
      "text/html": [
       "<div>\n",
       "<style scoped>\n",
       "    .dataframe tbody tr th:only-of-type {\n",
       "        vertical-align: middle;\n",
       "    }\n",
       "\n",
       "    .dataframe tbody tr th {\n",
       "        vertical-align: top;\n",
       "    }\n",
       "\n",
       "    .dataframe thead th {\n",
       "        text-align: right;\n",
       "    }\n",
       "</style>\n",
       "<table border=\"1\" class=\"dataframe\">\n",
       "  <thead>\n",
       "    <tr style=\"text-align: right;\">\n",
       "      <th></th>\n",
       "      <th>City</th>\n",
       "      <th>Country</th>\n",
       "      <th>Max Temp</th>\n",
       "      <th>Lat</th>\n",
       "      <th>Lng</th>\n",
       "      <th>Hotel Name</th>\n",
       "    </tr>\n",
       "  </thead>\n",
       "  <tbody>\n",
       "    <tr>\n",
       "      <th>0</th>\n",
       "      <td>Rikitea</td>\n",
       "      <td>PF</td>\n",
       "      <td>75.04</td>\n",
       "      <td>-23.1203</td>\n",
       "      <td>-134.9692</td>\n",
       "      <td></td>\n",
       "    </tr>\n",
       "    <tr>\n",
       "      <th>1</th>\n",
       "      <td>Souris</td>\n",
       "      <td>CA</td>\n",
       "      <td>82.40</td>\n",
       "      <td>49.6172</td>\n",
       "      <td>-100.2612</td>\n",
       "      <td></td>\n",
       "    </tr>\n",
       "    <tr>\n",
       "      <th>3</th>\n",
       "      <td>Portland</td>\n",
       "      <td>US</td>\n",
       "      <td>80.01</td>\n",
       "      <td>45.5234</td>\n",
       "      <td>-122.6762</td>\n",
       "      <td></td>\n",
       "    </tr>\n",
       "    <tr>\n",
       "      <th>5</th>\n",
       "      <td>Aquidauana</td>\n",
       "      <td>BR</td>\n",
       "      <td>86.04</td>\n",
       "      <td>-20.4711</td>\n",
       "      <td>-55.7872</td>\n",
       "      <td></td>\n",
       "    </tr>\n",
       "    <tr>\n",
       "      <th>6</th>\n",
       "      <td>Bathsheba</td>\n",
       "      <td>BB</td>\n",
       "      <td>84.20</td>\n",
       "      <td>13.2167</td>\n",
       "      <td>-59.5167</td>\n",
       "      <td></td>\n",
       "    </tr>\n",
       "    <tr>\n",
       "      <th>8</th>\n",
       "      <td>Hilo</td>\n",
       "      <td>US</td>\n",
       "      <td>84.20</td>\n",
       "      <td>19.7297</td>\n",
       "      <td>-155.0900</td>\n",
       "      <td></td>\n",
       "    </tr>\n",
       "    <tr>\n",
       "      <th>9</th>\n",
       "      <td>Albany</td>\n",
       "      <td>US</td>\n",
       "      <td>75.00</td>\n",
       "      <td>42.6001</td>\n",
       "      <td>-73.9662</td>\n",
       "      <td></td>\n",
       "    </tr>\n",
       "    <tr>\n",
       "      <th>11</th>\n",
       "      <td>Grenada</td>\n",
       "      <td>ES</td>\n",
       "      <td>75.20</td>\n",
       "      <td>37.1882</td>\n",
       "      <td>-3.6067</td>\n",
       "      <td></td>\n",
       "    </tr>\n",
       "    <tr>\n",
       "      <th>12</th>\n",
       "      <td>Grants</td>\n",
       "      <td>US</td>\n",
       "      <td>78.80</td>\n",
       "      <td>35.1473</td>\n",
       "      <td>-107.8514</td>\n",
       "      <td></td>\n",
       "    </tr>\n",
       "    <tr>\n",
       "      <th>13</th>\n",
       "      <td>Katsuura</td>\n",
       "      <td>JP</td>\n",
       "      <td>73.00</td>\n",
       "      <td>35.1333</td>\n",
       "      <td>140.3000</td>\n",
       "      <td></td>\n",
       "    </tr>\n",
       "  </tbody>\n",
       "</table>\n",
       "</div>"
      ],
      "text/plain": [
       "          City Country  Max Temp      Lat       Lng Hotel Name\n",
       "0      Rikitea      PF     75.04 -23.1203 -134.9692           \n",
       "1       Souris      CA     82.40  49.6172 -100.2612           \n",
       "3     Portland      US     80.01  45.5234 -122.6762           \n",
       "5   Aquidauana      BR     86.04 -20.4711  -55.7872           \n",
       "6    Bathsheba      BB     84.20  13.2167  -59.5167           \n",
       "8         Hilo      US     84.20  19.7297 -155.0900           \n",
       "9       Albany      US     75.00  42.6001  -73.9662           \n",
       "11     Grenada      ES     75.20  37.1882   -3.6067           \n",
       "12      Grants      US     78.80  35.1473 -107.8514           \n",
       "13    Katsuura      JP     73.00  35.1333  140.3000           "
      ]
     },
     "execution_count": 30,
     "metadata": {},
     "output_type": "execute_result"
    }
   ],
   "source": [
    "hotel_df = preferred_cities_df[['City','Country','Max Temp','Lat','Lng']].copy()\n",
    "hotel_df['Hotel Name']=''\n",
    "hotel_df.head(10)"
   ]
  },
  {
   "cell_type": "code",
   "execution_count": 31,
   "id": "56759320",
   "metadata": {},
   "outputs": [
    {
     "name": "stdout",
     "output_type": "stream",
     "text": [
      "Hotel not found...skipping\n",
      "Hotel not found...skipping\n",
      "Hotel not found...skipping\n",
      "Hotel not found...skipping\n",
      "Hotel not found...skipping\n",
      "Hotel not found...skipping\n",
      "Hotel not found...skipping\n",
      "Hotel not found...skipping\n",
      "Hotel not found...skipping\n",
      "Hotel not found...skipping\n",
      "Hotel not found...skipping\n",
      "Hotel not found...skipping\n",
      "Hotel not found...skipping\n",
      "Hotel not found...skipping\n"
     ]
    }
   ],
   "source": [
    "#use nearby search from google maps \n",
    "#https://maps.googleapis.com/maps/api/place/nearbysearch/output?parameters (output could be json or xml)\n",
    "#https://maps.googleapis.com/maps/api/place/nearbysearch/json (base_url)\n",
    "#add the parameters in the search \n",
    "params = {'radius':5000, \n",
    "         'type': 'lodging',\n",
    "         'key':g_key}\n",
    "for index, row in hotel_df.iterrows(): \n",
    "    lat = row[\"Lat\"]\n",
    "    lng = row[\"Lng\"]\n",
    "    \n",
    "    params['location'] = f\"{lat},{lng}\" \n",
    "    \n",
    "    base_url = 'https://maps.googleapis.com/maps/api/place/nearbysearch/json'\n",
    "    hotels = requests.get(base_url, params = params).json()\n",
    "    #grab the first hotel from the results and store the name \n",
    "    try:\n",
    "        hotel_df.loc[index,'Hotel Name'] = hotels['results'][0]['name']\n",
    "    except(IndexError):\n",
    "        print('Hotel not found...skipping')\n",
    "    \n",
    "    \n",
    "   "
   ]
  },
  {
   "cell_type": "code",
   "execution_count": 32,
   "id": "02942600",
   "metadata": {},
   "outputs": [
    {
     "data": {
      "application/vnd.jupyter.widget-view+json": {
       "model_id": "b40265a0d8504a198b0f7f5d081d8837",
       "version_major": 2,
       "version_minor": 0
      },
      "text/plain": [
       "Figure(layout=FigureLayout(height='420px'))"
      ]
     },
     "metadata": {},
     "output_type": "display_data"
    }
   ],
   "source": [
    "#add a heatmap of temperature for the vacation spots. \n",
    "locations = hotel_df[['Lat', 'Lng']]\n",
    "max_temp = hotel_df['Max Temp']\n",
    "fig = gmaps.figure(center=(30.1, 31.0), zoom_level=1.5)\n",
    "heat_layer = gmaps.heatmap_layer(locations, weights=max_temp,\n",
    "                                dissipating=False, point_radius=4, max_intensity=300)\n",
    "fig.add_layer(heat_layer)\n",
    "fig"
   ]
  },
  {
   "cell_type": "code",
   "execution_count": 34,
   "id": "ecf34554",
   "metadata": {},
   "outputs": [
    {
     "data": {
      "application/vnd.jupyter.widget-view+json": {
       "model_id": "cfd8e50f979f4769b0087331943ce031",
       "version_major": 2,
       "version_minor": 0
      },
      "text/plain": [
       "Figure(layout=FigureLayout(height='420px'))"
      ]
     },
     "metadata": {},
     "output_type": "display_data"
    }
   ],
   "source": [
    "locations = hotel_df[['Lat', 'Lng']]\n",
    "max_temp = hotel_df['Max Temp']\n",
    "fig = gmaps.figure(center=(30.1, 31.0), zoom_level=1.5)\n",
    "heat_layer = gmaps.heatmap_layer(locations, weights=max_temp,\n",
    "                                dissipating=False, point_radius=4, max_intensity=300)\n",
    "#add a heatmap of temperature for the vacation spots and marker for each city. \n",
    "marker_layer = gmaps.marker_layer(locations)\n",
    "fig.add_layer(heat_layer)\n",
    "fig.add_layer(marker_layer)\n",
    "fig"
   ]
  },
  {
   "cell_type": "code",
   "execution_count": 36,
   "id": "7a4a99e1",
   "metadata": {},
   "outputs": [],
   "source": [
    "#inbox poppup message \n",
    "#info_box_template = \"\"\" (three \"\"\" stands for strings)\n",
    "#<dl> (DESCRIPTION LIST)\n",
    "#<dt>Name</dt><dd>{column1}</dd> (description term)(description definition)\n",
    "#<dt>Another name</dt><dd>{column2}</dd>\n",
    "#</dl>\n",
    "#\"\"\"\n",
    "# info_box_template variable is assigned to a multiline string using three quotes\n",
    "#text inside the multiline string is HTML code"
   ]
  },
  {
   "cell_type": "code",
   "execution_count": 37,
   "id": "a0f90ef0",
   "metadata": {},
   "outputs": [],
   "source": [
    "info_box_template = \"\"\"\n",
    "<dl>\n",
    "<dt>Hotel Name</dt><dd>{Hotel Name}</dd>\n",
    "<dt>City</dt><dd>{City}</dd>\n",
    "<dt>Country</dt><dd>{Country}</dd>\n",
    "<dt>Max Temp</dt><dd>{Max Temp} °F</dd>\n",
    "</dl>\n",
    "\"\"\""
   ]
  },
  {
   "cell_type": "code",
   "execution_count": 38,
   "id": "ee142571",
   "metadata": {},
   "outputs": [
    {
     "data": {
      "application/vnd.jupyter.widget-view+json": {
       "model_id": "c7b3e08cc2a648fe98d492a07f179651",
       "version_major": 2,
       "version_minor": 0
      },
      "text/plain": [
       "Figure(layout=FigureLayout(height='420px'))"
      ]
     },
     "metadata": {},
     "output_type": "display_data"
    }
   ],
   "source": [
    "# Store the DataFrame Row.\n",
    "hotel_info = [info_box_template.format(**row) for index, row in hotel_df.iterrows()]\n",
    "# Add a heatmap of temperature for the vacation spots and a pop-up marker for each city.\n",
    "locations = hotel_df[[\"Lat\", \"Lng\"]]\n",
    "max_temp = hotel_df[\"Max Temp\"]\n",
    "fig = gmaps.figure(center=(30.0, 31.0), zoom_level=1.5)\n",
    "heat_layer = gmaps.heatmap_layer(locations, weights=max_temp,dissipating=False,\n",
    "             max_intensity=300, point_radius=4)\n",
    "marker_layer = gmaps.marker_layer(locations, info_box_content=hotel_info)\n",
    "fig.add_layer(heat_layer)\n",
    "fig.add_layer(marker_layer)\n",
    "\n",
    "# Call the figure to plot the data.\n",
    "fig"
   ]
  },
  {
   "cell_type": "code",
   "execution_count": null,
   "id": "77e415d5",
   "metadata": {},
   "outputs": [],
   "source": []
  }
 ],
 "metadata": {
  "kernelspec": {
   "display_name": "PythonData",
   "language": "python",
   "name": "pythondata"
  },
  "language_info": {
   "codemirror_mode": {
    "name": "ipython",
    "version": 3
   },
   "file_extension": ".py",
   "mimetype": "text/x-python",
   "name": "python",
   "nbconvert_exporter": "python",
   "pygments_lexer": "ipython3",
   "version": "3.7.10"
  }
 },
 "nbformat": 4,
 "nbformat_minor": 5
}
